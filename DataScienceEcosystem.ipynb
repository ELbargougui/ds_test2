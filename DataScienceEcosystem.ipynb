{
 "cells": [
  {
   "cell_type": "markdown",
   "id": "a2282784-a0ea-4e29-b231-f627c5ac86e2",
   "metadata": {},
   "source": [
    "# Data Science Tools and Ecosystem"
   ]
  },
  {
   "cell_type": "markdown",
   "id": "e483647a-d9a4-4a14-ba2e-6ea8f8824684",
   "metadata": {},
   "source": [
    "In this notebook, Data Science Tools and Ecosystem are summarized."
   ]
  },
  {
   "cell_type": "markdown",
   "id": "c55b9b34-74ca-4dc2-a67b-e9f7f71539f3",
   "metadata": {},
   "source": [
    "**Objectives:**\n",
    "+ Create a Jupyter Notebook\n",
    "+ Create a Jupyter Notebook\n",
    "+ Insert code and markdown cells\n",
    "+ List popular languages for Data Science\n",
    "+ List arithmetic expressions in Python"
   ]
  },
  {
   "cell_type": "markdown",
   "id": "073e3e2d-8a45-4a0a-ae60-519f43aadcac",
   "metadata": {},
   "source": [
    "Some of the popular languages that Data Scientists use are:\n",
    "+ Python\n",
    "+ R\n",
    "+ SQL\n",
    "    "
   ]
  },
  {
   "cell_type": "markdown",
   "id": "6859f3df-3280-4d1f-8089-f6b2d10e6984",
   "metadata": {},
   "source": [
    "Some of the commonly used libraries used by Data Scientists include:\n",
    "+ Numpy\n",
    "+ Pandas\n",
    "+ Pytorch\n",
    "+ Tensorflow"
   ]
  },
  {
   "cell_type": "markdown",
   "id": "348b88c6-8542-4128-a840-7ede9c1715d1",
   "metadata": {},
   "source": [
    "|Data Science Tools|\n",
    "|---------------------|\n",
    "|Jupyter Notebooks|\n",
    "|Apache Spark|\n",
    "|Apache Hadoop|\n"
   ]
  },
  {
   "cell_type": "markdown",
   "id": "95f781d6-daba-4a98-b686-412e6402cb2e",
   "metadata": {},
   "source": [
    "### Below are a few examples of evaluating arithmetic expressions in Python:\n",
    "+ sum(+)\n",
    "+ multuplication (*)\n",
    "+ devsion (/)"
   ]
  },
  {
   "cell_type": "code",
   "execution_count": 2,
   "id": "2ac80708-4880-487d-a961-579542038ced",
   "metadata": {
    "tags": []
   },
   "outputs": [
    {
     "data": {
      "text/plain": [
       "17"
      ]
     },
     "execution_count": 2,
     "metadata": {},
     "output_type": "execute_result"
    }
   ],
   "source": [
    "#This a simple arithmetic expression to mutiply then add integers\n",
    "m = 3\n",
    "n = 4\n",
    "p = 5\n",
    "(m*n)+p\n"
   ]
  },
  {
   "cell_type": "code",
   "execution_count": 6,
   "id": "c96b74af-ac9d-4d20-ab6d-b99ff724e3db",
   "metadata": {
    "tags": []
   },
   "outputs": [
    {
     "name": "stdout",
     "output_type": "stream",
     "text": [
      "the number of hours is 3.3333333333333335\n"
     ]
    }
   ],
   "source": [
    "#This will convert 200 minutes to hours by diving by 60\n",
    "def hours(m):\n",
    "    h = m/60\n",
    "    print('the number of hours is', h)\n",
    "    return \n",
    "hours(200)\n"
   ]
  },
  {
   "cell_type": "markdown",
   "id": "09f88b01-00d2-45e2-9b40-9c498316639d",
   "metadata": {},
   "source": [
    "## Author\n",
    "## Hamza BARGOUGUI"
   ]
  },
  {
   "cell_type": "code",
   "execution_count": null,
   "id": "f6209334-8e78-4b49-9e59-cd24a3dee55d",
   "metadata": {},
   "outputs": [],
   "source": []
  }
 ],
 "metadata": {
  "kernelspec": {
   "display_name": "Python",
   "language": "python",
   "name": "conda-env-python-py"
  },
  "language_info": {
   "codemirror_mode": {
    "name": "ipython",
    "version": 3
   },
   "file_extension": ".py",
   "mimetype": "text/x-python",
   "name": "python",
   "nbconvert_exporter": "python",
   "pygments_lexer": "ipython3",
   "version": "3.7.12"
  }
 },
 "nbformat": 4,
 "nbformat_minor": 5
}
